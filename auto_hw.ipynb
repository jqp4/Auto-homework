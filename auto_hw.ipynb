{
 "cells": [
  {
   "cell_type": "code",
   "execution_count": 1,
   "metadata": {},
   "outputs": [],
   "source": [
    "import numpy as np\n",
    "import pandas as pd\n",
    "import datetime\n",
    "\n",
    "\n",
    "time_table = pd.read_excel('Raspisanie_1_gruppa.xlsx')\n",
    "days = np.array(list(time_table.columns))\n",
    "PS_str = 'P. S. Если что-то не так - пишите'"
   ]
  },
  {
   "cell_type": "code",
   "execution_count": 6,
   "metadata": {},
   "outputs": [],
   "source": [
    "def print_tomorrow_hw(hw, tomorrow) :\n",
    "    print('(1 группа) На завтра:')\n",
    "\n",
    "    tomorrow_time_table = list(time_table[days[tomorrow + 2]])\n",
    "    for i in range(len(tomorrow_time_table)) :\n",
    "        shw = hw[hw[hw.columns[0]] == tomorrow_time_table[i]]\n",
    "        try :\n",
    "            s = str(i) + '. ' + shw.iloc[0, 0] + ' : ' + shw.iloc[0, 1]\n",
    "            print('{}\\n'.format(s))\n",
    "        except : pass\n",
    "\n",
    "    print(PS_str)        \n",
    "    print('#tomorrow1@tendcl')\n",
    "\n",
    "    \n",
    "def print_today_hw(hw, today) :\n",
    "    date = '{}.{}.{}'.format(str(datetime.datetime.today().day), str(datetime.datetime.today().month), str(datetime.datetime.today().year))\n",
    "    print('(1 группа) Домашнее задание от {}:'.format(date))\n",
    "    \n",
    "    today_time_table = list(time_table[days[today + 2]])\n",
    "    for i in range(len(today_time_table)) :\n",
    "        shw = hw[hw[hw.columns[0]] == today_time_table[i]]\n",
    "        try :\n",
    "            s = str(i) + '. ' + shw.iloc[0, 0] + ' : ' + shw.iloc[0, 1]\n",
    "            print('{}\\n'.format(s))\n",
    "        except : pass\n",
    "\n",
    "    print(PS_str)        \n",
    "    print('#homework1@tendcl')\n",
    "    \n",
    "    \n",
    "def print_hw(hw, today) :\n",
    "    tomorrow = today + 1\n",
    "    try :\n",
    "        print_tomorrow_hw(hw, tomorrow)\n",
    "        print('\\n\\n\\n\\n\\n')\n",
    "    except : pass\n",
    "    try :\n",
    "        print_today_hw(hw, today)\n",
    "    except : pass\n"
   ]
  },
  {
   "cell_type": "code",
   "execution_count": 7,
   "metadata": {},
   "outputs": [
    {
     "name": "stdout",
     "output_type": "stream",
     "text": [
      "(1 группа) На завтра:\n",
      "3. Мат. анализ : см. почту\n",
      "\n",
      "4. Мат. анализ : см. почту\n",
      "\n",
      "5. Алгебра : см. почту\n",
      "\n",
      "6. ОБЖ : подготовить и прочитать рефераты\n",
      "\n",
      "7. Химия : Готовиться к защите вашей темы  (см файл)\n",
      "\n",
      "P. S. Если что-то не так - пишите\n",
      "#tomorrow1@tendcl\n",
      "\n",
      "\n",
      "\n",
      "\n",
      "\n",
      "\n",
      "(1 группа) Домашнее задание от 16.5.2019:\n",
      "1. Русский язык : ничего\n",
      "\n",
      "2. Английский язык : делайте, что хотите, она все равно не чекает\n",
      "\n",
      "3. Теор. осн. математики : -\n",
      "\n",
      "4. Теор. осн. математики : -\n",
      "\n",
      "5. Физкультура : Взять форму\n",
      "\n",
      "6. Химия : Готовиться к защите вашей темы  (см файл)\n",
      "\n",
      "7. Литература : Читать стихи Ахматовой из списка (см ниже)\n",
      "\n",
      "8. История : Подготовиться тем, кто еще не выступал\n",
      "\n",
      "P. S. Если что-то не так - пишите\n",
      "#homework1@tendcl\n"
     ]
    }
   ],
   "source": [
    "hw = pd.read_excel('prdz.xlsx')\n",
    "today = datetime.datetime.today().weekday()\n",
    "\n",
    "print_hw(hw, today)"
   ]
  },
  {
   "cell_type": "code",
   "execution_count": null,
   "metadata": {},
   "outputs": [],
   "source": []
  },
  {
   "cell_type": "code",
   "execution_count": null,
   "metadata": {},
   "outputs": [],
   "source": []
  },
  {
   "cell_type": "code",
   "execution_count": null,
   "metadata": {},
   "outputs": [],
   "source": []
  },
  {
   "cell_type": "code",
   "execution_count": null,
   "metadata": {},
   "outputs": [],
   "source": []
  }
 ],
 "metadata": {
  "kernelspec": {
   "display_name": "Python 3",
   "language": "python",
   "name": "python3"
  },
  "language_info": {
   "codemirror_mode": {
    "name": "ipython",
    "version": 3
   },
   "file_extension": ".py",
   "mimetype": "text/x-python",
   "name": "python",
   "nbconvert_exporter": "python",
   "pygments_lexer": "ipython3",
   "version": "3.6.3"
  }
 },
 "nbformat": 4,
 "nbformat_minor": 2
}
