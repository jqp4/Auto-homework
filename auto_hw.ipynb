{
 "cells": [
  {
   "cell_type": "code",
   "execution_count": 93,
   "metadata": {},
   "outputs": [],
   "source": [
    "import numpy as np\n",
    "import pandas as pd\n",
    "import datetime\n"
   ]
  },
  {
   "cell_type": "code",
   "execution_count": 94,
   "metadata": {
    "scrolled": true
   },
   "outputs": [],
   "source": [
    "time_table = pd.read_excel('Raspisanie_1_gruppa.xlsx')\n",
    "hw = pd.read_excel('prdz.xlsx')\n",
    "days = np.array(list(time_table.columns))\n",
    "\n",
    "PS_str = 'P. S. Если что-то не так - пишите'\n",
    "\n",
    "today = datetime.datetime.today().weekday()\n",
    "tomorrow = today + 1\n"
   ]
  },
  {
   "cell_type": "code",
   "execution_count": 102,
   "metadata": {},
   "outputs": [],
   "source": [
    "def print_tomorrow_hw() :\n",
    "    if tomorrow + 1 < 7 :\n",
    "        print('(1 группа) На завтра:')\n",
    "\n",
    "        tomorrow_time_table = list(time_table[days[tomorrow + 2]])\n",
    "        for i in range(len(tomorrow_time_table)) :\n",
    "            shw = hw[hw[hw.columns[0]] == tomorrow_time_table[i]]\n",
    "            try :\n",
    "                s = str(i) + '. ' + shw.iloc[0, 0] + ' : ' + shw.iloc[0, 1]\n",
    "                print('{}\\n'.format(s))\n",
    "            except : pass\n",
    "\n",
    "        print(PS_str)        \n",
    "        print('#tomorrow1@tendcl')\n",
    "\n",
    "    \n",
    "def print_today_hw() :\n",
    "    date = '{}.{}.{}'.format(str(datetime.datetime.today().day), str(datetime.datetime.today().month), str(datetime.datetime.today().year))\n",
    "    print('(1 группа) Домашнее задание от {}:'.format(date))\n",
    "    \n",
    "    today_time_table = list(time_table[days[today + 2]])\n",
    "    for i in range(len(today_time_table)) :\n",
    "        shw = hw[hw[hw.columns[0]] == today_time_table[i]]\n",
    "        try :\n",
    "            s = str(i) + '. ' + shw.iloc[0, 0] + ' : ' + shw.iloc[0, 1]\n",
    "            print('{}\\n'.format(s))\n",
    "        except : pass\n",
    "\n",
    "    print(PS_str)        \n",
    "    print('#homework1@tendcl')\n"
   ]
  },
  {
   "cell_type": "code",
   "execution_count": 103,
   "metadata": {},
   "outputs": [
    {
     "name": "stdout",
     "output_type": "stream",
     "text": [
      "(1 группа) Домашнее задание от 23.3.2019:\n",
      "0. Доп. математика : Вова, мб ты уже перестанешь прогуливать и придешь? Надоел подставлять нас\n",
      "\n",
      "1. Информатика : делать задачи на https://sdo.1580.ru\n",
      "\n",
      "2. Английский язык : на уроке смотрели кино, поэтому, скорее всего, ничего не заданно\n",
      "\n",
      "3. Алгебра : cм.фото (скоро будет)\n",
      "\n",
      "4. Планиметрия : см. почту\n",
      "\n",
      "5. Информатика : делать задачи на https://sdo.1580.ru\n",
      "\n",
      "6. Информатика : делать задачи на https://sdo.1580.ru\n",
      "\n",
      "7. Информатика : делать задачи на https://sdo.1580.ru\n",
      "\n",
      "P. S. Если что-то не так - пишите\n",
      "#homework1@tendcl\n",
      "\n",
      "\n",
      "\n",
      "\n",
      "\n"
     ]
    }
   ],
   "source": [
    "print_today_hw()\n",
    "print('\\n\\n\\n\\n')\n",
    "print_tomorrow_hw()"
   ]
  },
  {
   "cell_type": "code",
   "execution_count": null,
   "metadata": {},
   "outputs": [],
   "source": []
  },
  {
   "cell_type": "code",
   "execution_count": null,
   "metadata": {},
   "outputs": [],
   "source": []
  },
  {
   "cell_type": "code",
   "execution_count": null,
   "metadata": {},
   "outputs": [],
   "source": []
  },
  {
   "cell_type": "code",
   "execution_count": null,
   "metadata": {},
   "outputs": [],
   "source": []
  },
  {
   "cell_type": "code",
   "execution_count": null,
   "metadata": {},
   "outputs": [],
   "source": []
  },
  {
   "cell_type": "code",
   "execution_count": null,
   "metadata": {},
   "outputs": [],
   "source": []
  }
 ],
 "metadata": {
  "kernelspec": {
   "display_name": "Python 3",
   "language": "python",
   "name": "python3"
  },
  "language_info": {
   "codemirror_mode": {
    "name": "ipython",
    "version": 3
   },
   "file_extension": ".py",
   "mimetype": "text/x-python",
   "name": "python",
   "nbconvert_exporter": "python",
   "pygments_lexer": "ipython3",
   "version": "3.6.3"
  }
 },
 "nbformat": 4,
 "nbformat_minor": 2
}
