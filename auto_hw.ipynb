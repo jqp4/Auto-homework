{
 "cells": [
  {
   "cell_type": "code",
   "execution_count": 2,
   "metadata": {},
   "outputs": [],
   "source": [
    "import numpy as np\n",
    "import pandas as pd\n",
    "import datetime\n"
   ]
  },
  {
   "cell_type": "code",
   "execution_count": 5,
   "metadata": {
    "scrolled": true
   },
   "outputs": [],
   "source": [
    "time_table = pd.read_excel('Raspisanie_1_gruppa.xlsx')\n",
    "hw = pd.read_excel('prdz.xlsx')\n",
    "days = np.array(list(time_table.columns))\n",
    "\n",
    "first_str = '(1 группа) На завтра:'\n",
    "PS_str = 'P. S. Если что-то не так - пишите'\n",
    "last_str = '#tomorrow1@tendcl'\n",
    "\n",
    "tomorrow = datetime.datetime.today().weekday() + 1\n",
    "tomorrow_time_table = list(time_table[days[tomorrow + 2]])\n"
   ]
  },
  {
   "cell_type": "code",
   "execution_count": 6,
   "metadata": {},
   "outputs": [
    {
     "name": "stdout",
     "output_type": "stream",
     "text": [
      "(1 группа) На завтра:\n",
      "3. Мат. анализ : см. почту + сделать 267 вариант (http://alexlarin.net/ege/2019/trvar267.html)\n",
      "\n",
      "4. Мат. анализ : см. почту + сделать 267 вариант (http://alexlarin.net/ege/2019/trvar267.html)\n",
      "\n",
      "5. Алгебра : см. почту\n",
      "\n",
      "6. ОБЖ : подготовить и прочитать рефераты\n",
      "\n",
      "7. Химия : Готовиться к устной защите способов получение металла из руды ( тем, кто не сдал )\n",
      "\n",
      "P. S. Если что-то не так - пишите\n",
      "#tomorrow1@tendcl\n"
     ]
    }
   ],
   "source": [
    "print(first_str)\n",
    "\n",
    "for i in range(len(tomorrow_time_table)) :\n",
    "    shw = hw[hw[hw.columns[0]] == tomorrow_time_table[i]]\n",
    "    try :\n",
    "        s = str(i) + '. ' + shw.iloc[0, 0] + ' : ' + shw.iloc[0, 1]\n",
    "        print('{}\\n'.format(s))\n",
    "    except : pass\n",
    "        \n",
    "print(PS_str)        \n",
    "print(last_str)\n",
    "    "
   ]
  },
  {
   "cell_type": "code",
   "execution_count": null,
   "metadata": {},
   "outputs": [],
   "source": []
  },
  {
   "cell_type": "code",
   "execution_count": null,
   "metadata": {},
   "outputs": [],
   "source": []
  }
 ],
 "metadata": {
  "kernelspec": {
   "display_name": "Python 3",
   "language": "python",
   "name": "python3"
  }
 },
 "nbformat": 4,
 "nbformat_minor": 2
}
