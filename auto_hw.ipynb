{
 "cells": [
  {
   "cell_type": "code",
   "execution_count": 31,
   "metadata": {},
   "outputs": [],
   "source": [
    "import numpy as np\n",
    "import pandas as pd\n",
    "import datetime\n"
   ]
  },
  {
   "cell_type": "code",
   "execution_count": 32,
   "metadata": {
    "scrolled": true
   },
   "outputs": [],
   "source": [
    "#time_table = pd.read_excel('Raspisanie_1_gruppa.xlsx')\n",
    "#hw = pd.read_excel('prdz.xlsx')\n",
    "days = np.array(list(time_table.columns))\n",
    "\n",
    "PS_str = 'P. S. Если что-то не так - пишите'\n",
    "\n",
    "today = datetime.datetime.today().weekday()\n",
    "tomorrow = today + 1\n"
   ]
  },
  {
   "cell_type": "code",
   "execution_count": 33,
   "metadata": {},
   "outputs": [],
   "source": [
    "def print_tomorrow_hw() :\n",
    "    if tomorrow + 1 < 7 :\n",
    "        print('(1 группа) На завтра:')\n",
    "\n",
    "        tomorrow_time_table = list(time_table[days[tomorrow + 2]])\n",
    "        for i in range(len(tomorrow_time_table)) :\n",
    "            shw = hw[hw[hw.columns[0]] == tomorrow_time_table[i]]\n",
    "            try :\n",
    "                s = str(i) + '. ' + shw.iloc[0, 0] + ' : ' + shw.iloc[0, 1]\n",
    "                print('{}\\n'.format(s))\n",
    "            except : pass\n",
    "\n",
    "        print(PS_str)        \n",
    "        print('#tomorrow1@tendcl')\n",
    "\n",
    "    \n",
    "def print_today_hw() :\n",
    "    date = '{}.{}.{}'.format(str(datetime.datetime.today().day), str(datetime.datetime.today().month), str(datetime.datetime.today().year))\n",
    "    print('(1 группа) Домашнее задание от {}:'.format(date))\n",
    "    \n",
    "    today_time_table = list(time_table[days[today + 2]])\n",
    "    for i in range(len(today_time_table)) :\n",
    "        shw = hw[hw[hw.columns[0]] == today_time_table[i]]\n",
    "        try :\n",
    "            s = str(i) + '. ' + shw.iloc[0, 0] + ' : ' + shw.iloc[0, 1]\n",
    "            print('{}\\n'.format(s))\n",
    "        except : pass\n",
    "\n",
    "    print(PS_str)        \n",
    "    print('#homework1@tendcl')\n"
   ]
  },
  {
   "cell_type": "code",
   "execution_count": 38,
   "metadata": {},
   "outputs": [
    {
     "name": "stdout",
     "output_type": "stream",
     "text": [
      "(1 группа) Домашнее задание от 4.4.2019:\n",
      "1. Русский язык : хз\n",
      "\n",
      "2. Английский язык : Тем, кто не сдал слова из 5 модуля до каникул, могут сдать их завтра\n",
      "\n",
      "3. Теор. осн. математики : -\n",
      "\n",
      "4. Теор. осн. математики : -\n",
      "\n",
      "5. Физкультура : Взять форму для занятий в зале\n",
      "\n",
      "6. Химия : Готовиться к защите вашей темы  (см файл)\n",
      "\n",
      "7. Литература : Читать стихи Ахматовой из списка (спс Мише) :\n",
      "1. «Любовь»\n",
      "2. «Сероглазый король»\n",
      "3. «Он любил…»\n",
      "4. «Туманом легким сад наполнился…»\n",
      "5. «Смятение»\n",
      "6. «Вечером»\n",
      "7. «Все мы бражники здесь, блудницы…»\n",
      "8. «Я научилась просто, мудро жить…»\n",
      "9. «Ты письмо мое, милый, не комкай…»\n",
      "10. «Двадцать первое. Ночь. Понедельник…»\n",
      "11. «Сжала руки под темной вуалью» \n",
      "12. «Нет, царевич, я не та…» \n",
      "13. «Уединение»\n",
      "14. «Мне голос был, он звал утешно…» \n",
      "15. «Молитва» \n",
      "16. «Не с теми я, кто бросил землю»\n",
      "17. «Мужество» \n",
      "18. Поэма «Реквием»\n",
      "\n",
      "\n",
      "8. История : §41 - читать. Начать готовить презентации к 09.04.2019\n",
      "\n",
      "P. S. Если что-то не так - пишите\n",
      "#homework1@tendcl\n",
      "\n",
      "\n",
      "\n",
      "\n",
      "\n",
      "\n",
      "(1 группа) На завтра:\n",
      "3. Мат. анализ : см. почту\n",
      "\n",
      "4. Мат. анализ : см. почту\n",
      "\n",
      "5. Алгебра : см. почту\n",
      "\n",
      "6. ОБЖ : подготовить и прочитать рефераты\n",
      "\n",
      "7. Химия : Готовиться к защите вашей темы  (см файл)\n",
      "\n",
      "P. S. Если что-то не так - пишите\n",
      "#tomorrow1@tendcl\n"
     ]
    }
   ],
   "source": [
    "time_table = pd.read_excel('Raspisanie_1_gruppa.xlsx')\n",
    "hw = pd.read_excel('prdz.xlsx')\n",
    "\n",
    "print_today_hw()\n",
    "print('\\n\\n\\n\\n\\n')\n",
    "print_tomorrow_hw()"
   ]
  },
  {
   "cell_type": "code",
   "execution_count": null,
   "metadata": {},
   "outputs": [],
   "source": []
  },
  {
   "cell_type": "code",
   "execution_count": null,
   "metadata": {},
   "outputs": [],
   "source": []
  },
  {
   "cell_type": "code",
   "execution_count": null,
   "metadata": {},
   "outputs": [],
   "source": []
  }
 ],
 "metadata": {
  "kernelspec": {
   "display_name": "Python 3",
   "language": "python",
   "name": "python3"
  },
  "language_info": {
   "codemirror_mode": {
    "name": "ipython",
    "version": 3
   },
   "file_extension": ".py",
   "mimetype": "text/x-python",
   "name": "python",
   "nbconvert_exporter": "python",
   "pygments_lexer": "ipython3",
   "version": "3.6.3"
  }
 },
 "nbformat": 4,
 "nbformat_minor": 2
}
